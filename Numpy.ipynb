{
 "cells": [
  {
   "cell_type": "code",
   "execution_count": 2,
   "metadata": {},
   "outputs": [
    {
     "name": "stdout",
     "output_type": "stream",
     "text": [
      "[1 2 3]\n",
      "2\n",
      "[1] 3\n"
     ]
    }
   ],
   "source": [
    "import numpy as np\n",
    "print(np.array([1,2,3]))\n",
    "arr = np.array([[1,2,3], [4,5,6]])\n",
    "print(arr.ndim)\n",
    "print(arr[0, 0:1], arr[0, 2])"
   ]
  },
  {
   "cell_type": "markdown",
   "metadata": {},
   "source": [
    "### data types in numpy\n",
    "##### i - integer\n",
    "##### b - boolean\n",
    "##### u - unsigned integer\n",
    "##### f - float\n",
    "##### c - complex float\n",
    "##### m - timedelta\n",
    "##### M - datetime\n",
    "##### O - object\n",
    "##### S - string\n",
    "##### U - unicode string\n",
    "##### V - fixed chunk of memory for other type ( void )\n",
    "##### Use astype() function for changing pre-existing data types\n"
   ]
  },
  {
   "cell_type": "code",
   "execution_count": 3,
   "metadata": {},
   "outputs": [
    {
     "name": "stdout",
     "output_type": "stream",
     "text": [
      "[[1 2 4]\n",
      " [4 5 6]]\n",
      "(2, 3)\n"
     ]
    }
   ],
   "source": [
    "another = arr.copy()\n",
    "another[0, 2] = 4\n",
    "print(another)\n",
    "print(another.shape)"
   ]
  },
  {
   "cell_type": "code",
   "execution_count": 15,
   "metadata": {},
   "outputs": [
    {
     "name": "stdout",
     "output_type": "stream",
     "text": [
      "[[1 2 3]\n",
      " [4 5 6]\n",
      " [7 8 9]]\n",
      "1\n",
      "2\n",
      "3\n",
      "4\n",
      "5\n",
      "6\n",
      "7\n",
      "8\n",
      "9\n",
      "\n",
      "1\n",
      "2\n",
      "3\n",
      "4\n",
      "5\n",
      "6\n",
      "7\n",
      "8\n",
      "9\n",
      "[1 2 3 4 5 6 7 8 9]\n"
     ]
    }
   ],
   "source": [
    "array = np.array([1,2,3,4,5,6,7,8,9])\n",
    "Two_D_array = array.reshape(3,3)\n",
    "print(Two_D_array)\n",
    "Three_D_array = array.reshape(3, 3, 1)\n",
    "# looping in a 3d array\n",
    "for one_array in Three_D_array:\n",
    "    for another_array in one_array:\n",
    "        for Literally_another in another_array:\n",
    "            print(Literally_another)\n",
    "print()\n",
    "# or we can do this\n",
    "for one_val in np.nditer(Three_D_array):\n",
    "    print(one_val)\n",
    "print(Three_D_array.base)\n",
    "# passing -1 into reshape() means converting it into a 1 dimensional array"
   ]
  },
  {
   "cell_type": "code",
   "execution_count": 4,
   "metadata": {},
   "outputs": [
    {
     "name": "stdout",
     "output_type": "stream",
     "text": [
      "b'1'\n",
      "b'2'\n",
      "b'3'\n",
      "1\n",
      "3\n",
      "5\n",
      "7\n",
      "(0, 0) 1\n",
      "(0, 1) 2\n",
      "(0, 2) 3\n",
      "(0, 3) 4\n",
      "(1, 0) 5\n",
      "(1, 1) 6\n",
      "(1, 2) 7\n",
      "(1, 3) 8\n"
     ]
    }
   ],
   "source": [
    "arr = np.array([1, 2, 3])\n",
    "\n",
    "for x in np.nditer(arr, flags=['buffered'], op_dtypes=['S']):\n",
    "    print(x)\n",
    "\n",
    "arr = np.array([[1, 2, 3, 4], [5, 6, 7, 8]])\n",
    "for x in np.nditer(arr[:, ::2]):\n",
    "    print(x)\n",
    "# enumerting in an array\n",
    "for index, x in np.ndenumerate(arr):\n",
    "    print(index, x)"
   ]
  },
  {
   "cell_type": "markdown",
   "metadata": {},
   "source": [
    "## Concatenating arrays"
   ]
  },
  {
   "cell_type": "code",
   "execution_count": 14,
   "metadata": {},
   "outputs": [
    {
     "name": "stdout",
     "output_type": "stream",
     "text": [
      "[[1 4]\n",
      " [2 5]\n",
      " [3 6]]\n"
     ]
    }
   ],
   "source": [
    "arr1 = np.array([[1],[2],[3]])\n",
    "arr2 = np.array([[4],[5],[6]])\n",
    "new = np.concatenate((arr1, arr2), axis=1)\n",
    "print(new)"
   ]
  },
  {
   "cell_type": "markdown",
   "metadata": {},
   "source": [
    "# Stacking arrays"
   ]
  },
  {
   "cell_type": "code",
   "execution_count": 17,
   "metadata": {},
   "outputs": [
    {
     "name": "stdout",
     "output_type": "stream",
     "text": [
      "[[[1 1]\n",
      "  [2 2]\n",
      "  [3 3]]\n",
      "\n",
      " [[4 4]\n",
      "  [5 5]\n",
      "  [6 6]]]\n",
      "[[1 2 3]\n",
      " [4 5 6]\n",
      " [1 2 3]\n",
      " [4 5 6]]\n",
      "[[1 2 3 1 2 3]\n",
      " [4 5 6 4 5 6]]\n"
     ]
    }
   ],
   "source": [
    "arr1 = np.array([[1,2,3], [4,5,6]])\n",
    "arr2 = np.array([[1,2,3], [4,5,6]])\n",
    "new = np.stack((arr1, arr2), axis=2)\n",
    "print(new)\n",
    "new = np.vstack((arr1, arr2))\n",
    "print(new)\n",
    "new = np.hstack((arr1, arr2))\n",
    "print(new)"
   ]
  },
  {
   "cell_type": "markdown",
   "metadata": {},
   "source": [
    "## Splitting arrays"
   ]
  },
  {
   "cell_type": "code",
   "execution_count": 19,
   "metadata": {},
   "outputs": [
    {
     "name": "stdout",
     "output_type": "stream",
     "text": [
      "[array([1, 2]), array([3, 4]), array([5, 6])]\n",
      "(array(1), array(3), array(5))\n",
      "(array(2), array(4), array(6))\n",
      "[1 2]\n",
      "[array([[ 1],\n",
      "       [ 4],\n",
      "       [ 7],\n",
      "       [10],\n",
      "       [13],\n",
      "       [16]]), array([[ 2],\n",
      "       [ 5],\n",
      "       [ 8],\n",
      "       [11],\n",
      "       [14],\n",
      "       [17]]), array([[ 3],\n",
      "       [ 6],\n",
      "       [ 9],\n",
      "       [12],\n",
      "       [15],\n",
      "       [18]])]\n"
     ]
    }
   ],
   "source": [
    "arr = np.array([1, 2, 3, 4, 5, 6])\n",
    "\n",
    "newarr = np.array_split(arr, 3)\n",
    "\n",
    "print(newarr)\n",
    "for x in np.nditer(newarr):\n",
    "    print(x)\n",
    "print(newarr[0])\n",
    "\n",
    "\n",
    "arr = np.array([[1, 2, 3], [4, 5, 6], [7, 8, 9], [10, 11, 12], [13, 14, 15], [16, 17, 18]])\n",
    "newarr = np.array_split(arr, 3, axis=1)\n",
    "print(newarr)\n",
    "# can use hsplit() instead of array_split() for splitting horizontally"
   ]
  },
  {
   "cell_type": "markdown",
   "metadata": {},
   "source": [
    "### Searching in an array"
   ]
  },
  {
   "cell_type": "code",
   "execution_count": 8,
   "metadata": {},
   "outputs": [
    {
     "name": "stdout",
     "output_type": "stream",
     "text": [
      "(array([1, 3, 5], dtype=int64),)\n",
      "3\n",
      "[0 6 6 6]\n"
     ]
    }
   ],
   "source": [
    "arr = np.array([1,2,3,4,5,6])\n",
    "find = np.where(arr % 2 == 0)\n",
    "print(find)\n",
    "\n",
    "a = np.searchsorted(arr, 3, side='right')\n",
    "print(a)\n",
    "insertion_points = np.searchsorted(arr, [0,7,8,9], side='right')\n",
    "print(insertion_points)"
   ]
  },
  {
   "cell_type": "markdown",
   "metadata": {},
   "source": [
    "#### sorting can be done by using the sort() function which sorts arrays in place meaning a 2d or 3d array will be solved in place without changing positions"
   ]
  },
  {
   "cell_type": "markdown",
   "metadata": {},
   "source": [
    "## Filtering an array"
   ]
  },
  {
   "cell_type": "code",
   "execution_count": 9,
   "metadata": {},
   "outputs": [
    {
     "name": "stdout",
     "output_type": "stream",
     "text": [
      "[3 4]\n",
      "[3 4 5]\n",
      "[5]\n"
     ]
    }
   ],
   "source": [
    "arr = np.array([1,2,3,4,5])\n",
    "filtered = [False, False, True, True, False]\n",
    "print(arr[filtered])\n",
    "# fiteration based on an condition\n",
    "new = []\n",
    "for element in arr:\n",
    "    if element >= 3: new.append(True)\n",
    "    else: new.append(False)\n",
    "print(arr[new])\n",
    "print(arr[arr > 4])"
   ]
  },
  {
   "cell_type": "markdown",
   "metadata": {},
   "source": [
    "### Numpy ufunc() methods"
   ]
  },
  {
   "cell_type": "code",
   "execution_count": 12,
   "metadata": {},
   "outputs": [
    {
     "name": "stdout",
     "output_type": "stream",
     "text": [
      "[ 6  8 10 12]\n",
      "[6 8 10 12]\n"
     ]
    }
   ],
   "source": [
    "x = np.array([1,2,3,4])\n",
    "y = np.array([5,6,7,8])\n",
    "print(np.add(x, y))\n",
    "\n",
    "def myadd(x, y):\n",
    "    return x + y\n",
    "\n",
    "myadd = np.frompyfunc(myadd, 2, 1)\n",
    "print(myadd([1,2,3,4], [5,6,7,8]))"
   ]
  },
  {
   "cell_type": "markdown",
   "metadata": {},
   "source": [
    "### ufunc() methods, basic arithmetic ones: are incompleted without np. \n",
    "##### add() :- takes two or more arrays and returns a single array containing the sum in vertical axis.\n",
    "##### subtract() :- takes two or more arrays and returns a single array containing the difference in vertical axis.\n",
    "##### multiply() :- takes two or more arrays and returns a single array containing the product in vertical axis.\n",
    "##### divide() :- takes two or more arrays and returns a single array containing the division in vertical axis.\n",
    "##### remainder() or mod() :- takes two arrays and returns the remainders in vertical axis.\n",
    "##### power() :- takes two arrays and returns an array where the first array is base and second array is exponent.\n",
    "##### divmod() :- takes two arrays and returns two arrays where first is the quotient and second is the remainder.\n",
    "##### absolute() takes a single array and returns a single array where each value is the absolute value from the first array in the same position.\n",
    "##### truncate() takes a single array and returns a truncated single array.\n",
    "##### fix() takes a single array and returns a truncated single array.\n",
    "##### around() takes a single array and a number to which it rounds each value amd returns a single array.\n",
    "##### floor() takes a single array and rounds up to closest whole number.\n",
    "##### ceil() takes a single array and rounds down to closest whole number.\n"
   ]
  }
 ],
 "metadata": {
  "kernelspec": {
   "display_name": "Python 3",
   "language": "python",
   "name": "python3"
  },
  "language_info": {
   "codemirror_mode": {
    "name": "ipython",
    "version": 3
   },
   "file_extension": ".py",
   "mimetype": "text/x-python",
   "name": "python",
   "nbconvert_exporter": "python",
   "pygments_lexer": "ipython3",
   "version": "3.11.5"
  }
 },
 "nbformat": 4,
 "nbformat_minor": 2
}
